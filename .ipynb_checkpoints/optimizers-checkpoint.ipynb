{
 "cells": [
  {
   "cell_type": "code",
   "execution_count": 40,
   "id": "39580548-e414-42f2-983d-a5754b788222",
   "metadata": {},
   "outputs": [],
   "source": [
    "from tensorflow import keras\n",
    "from tensorflow.keras import layers\n",
    "from tensorflow.keras import activations\n",
    "from tensorflow.keras.models import Sequential\n",
    "from tensorflow.keras.layers import Dense\n",
    "\n",
    "from keras.layers import Input, Dense\n",
    "from tensorflow.keras.optimizers import SGD\n",
    "\n",
    "from sklearn.impute import SimpleImputer\n",
    "import numpy as np\n",
    "import pandas as pd"
   ]
  },
  {
   "cell_type": "code",
   "execution_count": 41,
   "id": "f403eb5e-9e4e-418f-b5e5-a3ff7f29e42f",
   "metadata": {},
   "outputs": [],
   "source": [
    "veri = pd.read_csv(\"breast-cancer-wisconsin.data\")\n",
    "#veri.head(10)\n",
    "\n",
    "veri.replace(to_replace=\"?\",value=-99999,inplace=True)\n",
    "veriyeni = veri.drop(['1000025'],axis=1)\n",
    "\n",
    "imp = SimpleImputer(missing_values=-99999, strategy=\"mean\")\n",
    "veriyeni = imp.fit_transform(veriyeni)\n",
    "\n",
    "giris = veriyeni[:,0:8]\n",
    "cikis = veriyeni[:,9]\n"
   ]
  },
  {
   "cell_type": "code",
   "execution_count": 56,
   "id": "d6b2ee14-0f47-43e3-97eb-c4706974eadc",
   "metadata": {
    "tags": []
   },
   "outputs": [
    {
     "name": "stdout",
     "output_type": "stream",
     "text": [
      "Epoch 1/50\n",
      "19/19 [==============================] - 1s 18ms/step - loss: 1.2428 - accuracy: 0.5980 - val_loss: 2.1971 - val_accuracy: 0.1978\n",
      "Epoch 2/50\n",
      "19/19 [==============================] - 0s 4ms/step - loss: 0.5648 - accuracy: 0.8484 - val_loss: 0.5113 - val_accuracy: 0.8352\n",
      "Epoch 3/50\n",
      "19/19 [==============================] - 0s 5ms/step - loss: 0.3041 - accuracy: 0.9077 - val_loss: 0.1637 - val_accuracy: 1.0000\n",
      "Epoch 4/50\n",
      "19/19 [==============================] - 0s 5ms/step - loss: 0.2779 - accuracy: 0.9110 - val_loss: 0.1697 - val_accuracy: 0.9780\n",
      "Epoch 5/50\n",
      "19/19 [==============================] - 0s 6ms/step - loss: 0.2881 - accuracy: 0.9094 - val_loss: 0.2062 - val_accuracy: 0.9560\n",
      "Epoch 6/50\n",
      "19/19 [==============================] - 0s 5ms/step - loss: 0.2307 - accuracy: 0.9275 - val_loss: 0.1053 - val_accuracy: 1.0000\n",
      "Epoch 7/50\n",
      "19/19 [==============================] - 0s 5ms/step - loss: 0.2124 - accuracy: 0.9292 - val_loss: 0.4788 - val_accuracy: 0.8352\n",
      "Epoch 8/50\n",
      "19/19 [==============================] - 0s 4ms/step - loss: 0.1845 - accuracy: 0.9423 - val_loss: 0.0613 - val_accuracy: 1.0000\n",
      "Epoch 9/50\n",
      "19/19 [==============================] - 0s 5ms/step - loss: 0.1838 - accuracy: 0.9440 - val_loss: 0.0912 - val_accuracy: 0.9890\n",
      "Epoch 10/50\n",
      "19/19 [==============================] - 0s 5ms/step - loss: 0.1515 - accuracy: 0.9588 - val_loss: 0.0813 - val_accuracy: 0.9890\n",
      "Epoch 11/50\n",
      "19/19 [==============================] - 0s 5ms/step - loss: 0.1300 - accuracy: 0.9572 - val_loss: 0.0558 - val_accuracy: 1.0000\n",
      "Epoch 12/50\n",
      "19/19 [==============================] - 0s 5ms/step - loss: 0.1278 - accuracy: 0.9638 - val_loss: 0.0778 - val_accuracy: 0.9890\n",
      "Epoch 13/50\n",
      "19/19 [==============================] - 0s 5ms/step - loss: 0.1673 - accuracy: 0.9456 - val_loss: 0.0553 - val_accuracy: 0.9890\n",
      "Epoch 14/50\n",
      "19/19 [==============================] - 0s 5ms/step - loss: 0.1575 - accuracy: 0.9456 - val_loss: 0.0916 - val_accuracy: 0.9890\n",
      "Epoch 15/50\n",
      "19/19 [==============================] - 0s 5ms/step - loss: 0.1362 - accuracy: 0.9555 - val_loss: 0.0669 - val_accuracy: 0.9780\n",
      "Epoch 16/50\n",
      "19/19 [==============================] - 0s 4ms/step - loss: 0.1505 - accuracy: 0.9473 - val_loss: 0.0375 - val_accuracy: 1.0000\n",
      "Epoch 17/50\n",
      "19/19 [==============================] - 0s 5ms/step - loss: 0.1108 - accuracy: 0.9687 - val_loss: 0.0614 - val_accuracy: 0.9890\n",
      "Epoch 18/50\n",
      "19/19 [==============================] - 0s 5ms/step - loss: 0.1283 - accuracy: 0.9522 - val_loss: 0.0674 - val_accuracy: 0.9890\n",
      "Epoch 19/50\n",
      "19/19 [==============================] - 0s 4ms/step - loss: 0.1108 - accuracy: 0.9671 - val_loss: 0.0386 - val_accuracy: 1.0000\n",
      "Epoch 20/50\n",
      "19/19 [==============================] - 0s 5ms/step - loss: 0.1160 - accuracy: 0.9621 - val_loss: 0.0446 - val_accuracy: 0.9890\n",
      "Epoch 21/50\n",
      "19/19 [==============================] - 0s 5ms/step - loss: 0.1116 - accuracy: 0.9605 - val_loss: 0.1669 - val_accuracy: 0.9121\n",
      "Epoch 22/50\n",
      "19/19 [==============================] - 0s 5ms/step - loss: 0.1143 - accuracy: 0.9572 - val_loss: 0.0496 - val_accuracy: 0.9780\n",
      "Epoch 23/50\n",
      "19/19 [==============================] - 0s 5ms/step - loss: 0.1429 - accuracy: 0.9423 - val_loss: 0.0608 - val_accuracy: 0.9890\n",
      "Epoch 24/50\n",
      "19/19 [==============================] - 0s 5ms/step - loss: 0.1194 - accuracy: 0.9572 - val_loss: 0.0501 - val_accuracy: 0.9890\n",
      "Epoch 25/50\n",
      "19/19 [==============================] - 0s 5ms/step - loss: 0.1141 - accuracy: 0.9588 - val_loss: 0.0590 - val_accuracy: 0.9780\n",
      "Epoch 26/50\n",
      "19/19 [==============================] - 0s 5ms/step - loss: 0.1053 - accuracy: 0.9703 - val_loss: 0.0646 - val_accuracy: 0.9780\n",
      "Epoch 27/50\n",
      "19/19 [==============================] - 0s 5ms/step - loss: 0.1040 - accuracy: 0.9621 - val_loss: 0.0637 - val_accuracy: 0.9780\n",
      "Epoch 28/50\n",
      "19/19 [==============================] - 0s 6ms/step - loss: 0.0932 - accuracy: 0.9753 - val_loss: 0.0829 - val_accuracy: 0.9780\n",
      "Epoch 29/50\n",
      "19/19 [==============================] - 0s 5ms/step - loss: 0.1267 - accuracy: 0.9539 - val_loss: 0.0360 - val_accuracy: 1.0000\n",
      "Epoch 30/50\n",
      "19/19 [==============================] - 0s 5ms/step - loss: 0.1039 - accuracy: 0.9621 - val_loss: 0.0426 - val_accuracy: 1.0000\n",
      "Epoch 31/50\n",
      "19/19 [==============================] - 0s 5ms/step - loss: 0.0960 - accuracy: 0.9621 - val_loss: 0.0448 - val_accuracy: 0.9890\n",
      "Epoch 32/50\n",
      "19/19 [==============================] - 0s 5ms/step - loss: 0.0935 - accuracy: 0.9654 - val_loss: 0.0722 - val_accuracy: 0.9780\n",
      "Epoch 33/50\n",
      "19/19 [==============================] - 0s 5ms/step - loss: 0.0884 - accuracy: 0.9720 - val_loss: 0.0386 - val_accuracy: 1.0000\n",
      "Epoch 34/50\n",
      "19/19 [==============================] - 0s 6ms/step - loss: 0.0818 - accuracy: 0.9769 - val_loss: 0.0891 - val_accuracy: 0.9451\n",
      "Epoch 35/50\n",
      "19/19 [==============================] - 0s 5ms/step - loss: 0.1016 - accuracy: 0.9687 - val_loss: 0.0347 - val_accuracy: 0.9890\n",
      "Epoch 36/50\n",
      "19/19 [==============================] - 0s 5ms/step - loss: 0.0793 - accuracy: 0.9720 - val_loss: 0.0769 - val_accuracy: 0.9780\n",
      "Epoch 37/50\n",
      "19/19 [==============================] - 0s 5ms/step - loss: 0.0972 - accuracy: 0.9654 - val_loss: 0.0501 - val_accuracy: 0.9780\n",
      "Epoch 38/50\n",
      "19/19 [==============================] - 0s 6ms/step - loss: 0.0971 - accuracy: 0.9671 - val_loss: 0.0301 - val_accuracy: 0.9890\n",
      "Epoch 39/50\n",
      "19/19 [==============================] - 0s 5ms/step - loss: 0.0823 - accuracy: 0.9769 - val_loss: 0.0688 - val_accuracy: 0.9780\n",
      "Epoch 40/50\n",
      "19/19 [==============================] - 0s 5ms/step - loss: 0.0838 - accuracy: 0.9671 - val_loss: 0.0362 - val_accuracy: 0.9890\n",
      "Epoch 41/50\n",
      "19/19 [==============================] - 0s 5ms/step - loss: 0.1061 - accuracy: 0.9522 - val_loss: 0.0252 - val_accuracy: 1.0000\n",
      "Epoch 42/50\n",
      "19/19 [==============================] - 0s 5ms/step - loss: 0.0985 - accuracy: 0.9654 - val_loss: 0.3987 - val_accuracy: 0.8681\n",
      "Epoch 43/50\n",
      "19/19 [==============================] - 0s 5ms/step - loss: 0.1115 - accuracy: 0.9605 - val_loss: 0.0356 - val_accuracy: 0.9890\n",
      "Epoch 44/50\n",
      "19/19 [==============================] - 0s 5ms/step - loss: 0.0706 - accuracy: 0.9703 - val_loss: 0.0360 - val_accuracy: 0.9780\n",
      "Epoch 45/50\n",
      "19/19 [==============================] - 0s 6ms/step - loss: 0.0930 - accuracy: 0.9605 - val_loss: 0.0381 - val_accuracy: 1.0000\n",
      "Epoch 46/50\n",
      "19/19 [==============================] - 0s 5ms/step - loss: 0.0729 - accuracy: 0.9703 - val_loss: 0.0475 - val_accuracy: 0.9780\n",
      "Epoch 47/50\n",
      "19/19 [==============================] - 0s 5ms/step - loss: 0.0903 - accuracy: 0.9654 - val_loss: 0.0464 - val_accuracy: 0.9780\n",
      "Epoch 48/50\n",
      "19/19 [==============================] - 0s 5ms/step - loss: 0.0682 - accuracy: 0.9819 - val_loss: 0.0748 - val_accuracy: 0.9670\n",
      "Epoch 49/50\n",
      "19/19 [==============================] - ETA: 0s - loss: 0.1327 - accuracy: 0.93 - 0s 6ms/step - loss: 0.0823 - accuracy: 0.9736 - val_loss: 0.0348 - val_accuracy: 0.9890\n",
      "Epoch 50/50\n",
      "19/19 [==============================] - 0s 5ms/step - loss: 0.0712 - accuracy: 0.9736 - val_loss: 0.0382 - val_accuracy: 0.9890\n"
     ]
    },
    {
     "data": {
      "text/plain": [
       "<keras.callbacks.History at 0x21e336db4f0>"
      ]
     },
     "execution_count": 56,
     "metadata": {},
     "output_type": "execute_result"
    }
   ],
   "source": [
    "model= Sequential()\n",
    "model.add(Dense(20,input_dim=8))\n",
    "model.add(layers.Activation(activations.relu))\n",
    "model.add(Dense(20))\n",
    "model.add(layers.Activation(activations.relu))\n",
    "model.add(Dense(20))\n",
    "model.add(layers.Activation('softmax'))#ikili sınıflandırma olduğu için sigmoid fonk kullanmalıyız ama Softmax'İ ikili  sınıflandırmada kullanırsak sigmoidle birebir aynı olur   \n",
    "\n",
    "#optimizer = keras.optimizers.Adam(learning_rate=0.01)\n",
    "#optimizer = keras.optimizers.Adadelta()\n",
    "optimizer = keras.optimizers.SGD(learning_rate=0.1)\n",
    "\n",
    "#learning rate ile epochs araasında ters orantı var.Learning rate düşürdükçe epochs sayısını arttırmalıyız\n",
    "#Learning rate'i çok yüksek seçersek 0'a yaklaşmaz ve belli değerler arasında salınım yapar.\n",
    "\n",
    "model.compile(optimizer = optimizer, loss = 'sparse_categorical_crossentropy',metrics=['accuracy'])\n",
    "model.fit(giris,cikis,epochs=50,batch_size=32,validation_split=0.13)"
   ]
  },
  {
   "cell_type": "code",
   "execution_count": 23,
   "id": "38120b8d-43a1-4eb3-94a2-fcf5c45d9258",
   "metadata": {},
   "outputs": [
    {
     "name": "stdout",
     "output_type": "stream",
     "text": [
      "[[2 2 2 2 2 2 2 2]]\n"
     ]
    }
   ],
   "source": [
    "tahmin = np.array([5,5,5,8,10,8,7,3]).reshape(1,8) #sample \n",
    "print(np.where(tahmin>0,2,4))"
   ]
  },
  {
   "cell_type": "code",
   "execution_count": null,
   "id": "6501311d-3ab8-44c2-9686-5e2531395a1f",
   "metadata": {},
   "outputs": [],
   "source": []
  }
 ],
 "metadata": {
  "kernelspec": {
   "display_name": "Python 3 (ipykernel)",
   "language": "python",
   "name": "python3"
  },
  "language_info": {
   "codemirror_mode": {
    "name": "ipython",
    "version": 3
   },
   "file_extension": ".py",
   "mimetype": "text/x-python",
   "name": "python",
   "nbconvert_exporter": "python",
   "pygments_lexer": "ipython3",
   "version": "3.9.12"
  }
 },
 "nbformat": 4,
 "nbformat_minor": 5
}
