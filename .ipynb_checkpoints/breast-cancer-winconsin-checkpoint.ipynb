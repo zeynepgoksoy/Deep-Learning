{
 "cells": [
  {
   "cell_type": "markdown",
   "id": "b8563a54",
   "metadata": {},
   "source": [
    "#Keras ile Derin Öğrenme - Kanser Tespiti\n",
    "Attribute info\n",
    "\n",
    "1.Sample code number: id number\n",
    "2.Clump Thickness : 1-10\n",
    "3.Uniformity of Cell size : 1-10\n",
    "4.Uniformity of Cell shape:1-10\n",
    "5.Marginal Adhesion : 1-10\n",
    "6.Single Epithelial cell size : 1-10\n",
    "7.Bare NUCLEİ :1-10\n",
    "8.Bland chromatin 1-10\n",
    "9.Normal nucleoli 1-10\n",
    "10.Mitoses 1-10\n",
    "11.Class (2 for bening(iyi huylu) , 4 for malignant(kötü huylu))"
   ]
  },
  {
   "cell_type": "code",
   "execution_count": 23,
   "id": "f6fc3dd5",
   "metadata": {
    "scrolled": true
   },
   "outputs": [],
   "source": [
    "import keras\n",
    "from tensorflow.keras import layers\n",
    "from tensorflow.keras import activations\n",
    "from tensorflow.keras.models import Sequential\n",
    "from tensorflow.keras.layers import Dense\n",
    "\n",
    "\n",
    "from keras.layers import Input, Dense\n",
    "from tensorflow.keras.optimizers import SGD\n",
    "\n",
    "from sklearn.impute import SimpleImputer\n",
    "import numpy as np\n",
    "import pandas as pd\n",
    "\n"
   ]
  },
  {
   "cell_type": "code",
   "execution_count": 24,
   "id": "afb5d5b3-b04c-4de5-af6a-19220bee1e93",
   "metadata": {},
   "outputs": [],
   "source": [
    "veri = pd.read_csv(\"breast-cancer-wisconsin.data\")\n",
    "#veri.head(10)\n",
    "\n",
    "veri.replace(to_replace=\"?\",value=-99999,inplace=True)\n",
    "veriyeni = veri.drop(['1000025'],axis=1)\n",
    "\n",
    "#DataFrame.replace(to_replace=None, value=None, inplace=False, limit=None, regex=False, method=’pad’, axis=None)\n",
    "#[str, regex, list, dict, Series, numeric, or None] pattern that we are trying to replace in dataframe.\n",
    "# this will replace \"Boston Celtics\" and \"Texas\" with \"Omega Warrior\"\n",
    "#df.replace(to_replace =[\"Boston Celtics\", \"Texas\"],value =\"Omega Warrior\")\n",
    "#df.replace(to_replace = np.nan, value =-99999)\n",
    "\n",
    "imp = SimpleImputer(missing_values=-99999, strategy=\"mean\")\n",
    "veriyeni = imp.fit_transform(veriyeni)\n",
    "\n",
    "giris = veriyeni[:,0:8]\n",
    "cikis = veriyeni[:,9]\n",
    "\n"
   ]
  },
  {
   "cell_type": "code",
   "execution_count": 27,
   "id": "51d85351-40d0-41bb-83a6-9c506259b490",
   "metadata": {},
   "outputs": [
    {
     "name": "stdout",
     "output_type": "stream",
     "text": [
      "Epoch 1/50\n",
      "19/19 [==============================] - 1s 22ms/step - loss: 3.5245 - accuracy: 0.1186 - val_loss: 2.1567 - val_accuracy: 0.3736\n",
      "Epoch 2/50\n",
      "19/19 [==============================] - 0s 5ms/step - loss: 1.2566 - accuracy: 0.7595 - val_loss: 0.8856 - val_accuracy: 0.9670\n",
      "Epoch 3/50\n",
      "19/19 [==============================] - 0s 5ms/step - loss: 0.5855 - accuracy: 0.8814 - val_loss: 0.4231 - val_accuracy: 0.9670\n",
      "Epoch 4/50\n",
      "19/19 [==============================] - 0s 5ms/step - loss: 0.3931 - accuracy: 0.8929 - val_loss: 0.2979 - val_accuracy: 0.9560\n",
      "Epoch 5/50\n",
      "19/19 [==============================] - 0s 5ms/step - loss: 0.3403 - accuracy: 0.8979 - val_loss: 0.2530 - val_accuracy: 0.9670\n",
      "Epoch 6/50\n",
      "19/19 [==============================] - 0s 5ms/step - loss: 0.3071 - accuracy: 0.9061 - val_loss: 0.2362 - val_accuracy: 0.9451\n",
      "Epoch 7/50\n",
      "19/19 [==============================] - 0s 5ms/step - loss: 0.2771 - accuracy: 0.9127 - val_loss: 0.2257 - val_accuracy: 0.9451\n",
      "Epoch 8/50\n",
      "19/19 [==============================] - 0s 5ms/step - loss: 0.2590 - accuracy: 0.9341 - val_loss: 0.1731 - val_accuracy: 0.9670\n",
      "Epoch 9/50\n",
      "19/19 [==============================] - 0s 5ms/step - loss: 0.2298 - accuracy: 0.9423 - val_loss: 0.1670 - val_accuracy: 0.9670\n",
      "Epoch 10/50\n",
      "19/19 [==============================] - 0s 5ms/step - loss: 0.2144 - accuracy: 0.9423 - val_loss: 0.1451 - val_accuracy: 0.9890\n",
      "Epoch 11/50\n",
      "19/19 [==============================] - 0s 5ms/step - loss: 0.2010 - accuracy: 0.9522 - val_loss: 0.1322 - val_accuracy: 1.0000\n",
      "Epoch 12/50\n",
      "19/19 [==============================] - 0s 5ms/step - loss: 0.1772 - accuracy: 0.9572 - val_loss: 0.1076 - val_accuracy: 0.9890\n",
      "Epoch 13/50\n",
      "19/19 [==============================] - 0s 5ms/step - loss: 0.1729 - accuracy: 0.9572 - val_loss: 0.1427 - val_accuracy: 0.9670\n",
      "Epoch 14/50\n",
      "19/19 [==============================] - 0s 5ms/step - loss: 0.1746 - accuracy: 0.9489 - val_loss: 0.1140 - val_accuracy: 0.9890\n",
      "Epoch 15/50\n",
      "19/19 [==============================] - 0s 5ms/step - loss: 0.1492 - accuracy: 0.9638 - val_loss: 0.0775 - val_accuracy: 1.0000\n",
      "Epoch 16/50\n",
      "19/19 [==============================] - 0s 5ms/step - loss: 0.1416 - accuracy: 0.9555 - val_loss: 0.0994 - val_accuracy: 0.9890\n",
      "Epoch 17/50\n",
      "19/19 [==============================] - 0s 5ms/step - loss: 0.1505 - accuracy: 0.9605 - val_loss: 0.0823 - val_accuracy: 0.9890\n",
      "Epoch 18/50\n",
      "19/19 [==============================] - 0s 5ms/step - loss: 0.1257 - accuracy: 0.9621 - val_loss: 0.0752 - val_accuracy: 0.9890\n",
      "Epoch 19/50\n",
      "19/19 [==============================] - 0s 5ms/step - loss: 0.1167 - accuracy: 0.9638 - val_loss: 0.0663 - val_accuracy: 0.9890\n",
      "Epoch 20/50\n",
      "19/19 [==============================] - 0s 5ms/step - loss: 0.1124 - accuracy: 0.9654 - val_loss: 0.0618 - val_accuracy: 0.9890\n",
      "Epoch 21/50\n",
      "19/19 [==============================] - 0s 5ms/step - loss: 0.1135 - accuracy: 0.9654 - val_loss: 0.0581 - val_accuracy: 0.9890\n",
      "Epoch 22/50\n",
      "19/19 [==============================] - 0s 5ms/step - loss: 0.1031 - accuracy: 0.9671 - val_loss: 0.0533 - val_accuracy: 1.0000\n",
      "Epoch 23/50\n",
      "19/19 [==============================] - 0s 5ms/step - loss: 0.1001 - accuracy: 0.9654 - val_loss: 0.0618 - val_accuracy: 0.9780\n",
      "Epoch 24/50\n",
      "19/19 [==============================] - 0s 5ms/step - loss: 0.0993 - accuracy: 0.9654 - val_loss: 0.0576 - val_accuracy: 0.9780\n",
      "Epoch 25/50\n",
      "19/19 [==============================] - 0s 5ms/step - loss: 0.0955 - accuracy: 0.9703 - val_loss: 0.0559 - val_accuracy: 0.9890\n",
      "Epoch 26/50\n",
      "19/19 [==============================] - 0s 5ms/step - loss: 0.0849 - accuracy: 0.9703 - val_loss: 0.0487 - val_accuracy: 0.9890\n",
      "Epoch 27/50\n",
      "19/19 [==============================] - 0s 5ms/step - loss: 0.0939 - accuracy: 0.9638 - val_loss: 0.0450 - val_accuracy: 0.9890\n",
      "Epoch 28/50\n",
      "19/19 [==============================] - 0s 5ms/step - loss: 0.0916 - accuracy: 0.9687 - val_loss: 0.0603 - val_accuracy: 0.9780\n",
      "Epoch 29/50\n",
      "19/19 [==============================] - 0s 5ms/step - loss: 0.0865 - accuracy: 0.9638 - val_loss: 0.0718 - val_accuracy: 0.9560\n",
      "Epoch 30/50\n",
      "19/19 [==============================] - 0s 5ms/step - loss: 0.0921 - accuracy: 0.9703 - val_loss: 0.1069 - val_accuracy: 0.9341\n",
      "Epoch 31/50\n",
      "19/19 [==============================] - 0s 5ms/step - loss: 0.0798 - accuracy: 0.9703 - val_loss: 0.0412 - val_accuracy: 0.9890\n",
      "Epoch 32/50\n",
      "19/19 [==============================] - 0s 5ms/step - loss: 0.0758 - accuracy: 0.9720 - val_loss: 0.0404 - val_accuracy: 0.9890\n",
      "Epoch 33/50\n",
      "19/19 [==============================] - 0s 5ms/step - loss: 0.0768 - accuracy: 0.9687 - val_loss: 0.0441 - val_accuracy: 0.9890\n",
      "Epoch 34/50\n",
      "19/19 [==============================] - 0s 5ms/step - loss: 0.0696 - accuracy: 0.9736 - val_loss: 0.0364 - val_accuracy: 0.9890\n",
      "Epoch 35/50\n",
      "19/19 [==============================] - 0s 5ms/step - loss: 0.0721 - accuracy: 0.9687 - val_loss: 0.0348 - val_accuracy: 0.9890\n",
      "Epoch 36/50\n",
      "19/19 [==============================] - 0s 5ms/step - loss: 0.0723 - accuracy: 0.9720 - val_loss: 0.0346 - val_accuracy: 0.9890\n",
      "Epoch 37/50\n",
      "19/19 [==============================] - 0s 5ms/step - loss: 0.0704 - accuracy: 0.9703 - val_loss: 0.0520 - val_accuracy: 0.9890\n",
      "Epoch 38/50\n",
      "19/19 [==============================] - 0s 5ms/step - loss: 0.0634 - accuracy: 0.9736 - val_loss: 0.0324 - val_accuracy: 0.9890\n",
      "Epoch 39/50\n",
      "19/19 [==============================] - 0s 5ms/step - loss: 0.0661 - accuracy: 0.9720 - val_loss: 0.0362 - val_accuracy: 0.9890\n",
      "Epoch 40/50\n",
      "19/19 [==============================] - 0s 5ms/step - loss: 0.0639 - accuracy: 0.9753 - val_loss: 0.0370 - val_accuracy: 0.9890\n",
      "Epoch 41/50\n",
      "19/19 [==============================] - 0s 6ms/step - loss: 0.0715 - accuracy: 0.9769 - val_loss: 0.0340 - val_accuracy: 0.9890\n",
      "Epoch 42/50\n",
      "19/19 [==============================] - 0s 6ms/step - loss: 0.0605 - accuracy: 0.9753 - val_loss: 0.0756 - val_accuracy: 0.9560\n",
      "Epoch 43/50\n",
      "19/19 [==============================] - 0s 6ms/step - loss: 0.0832 - accuracy: 0.9736 - val_loss: 0.0402 - val_accuracy: 1.0000\n",
      "Epoch 44/50\n",
      "19/19 [==============================] - 0s 5ms/step - loss: 0.0602 - accuracy: 0.9769 - val_loss: 0.0356 - val_accuracy: 0.9890\n",
      "Epoch 45/50\n",
      "19/19 [==============================] - 0s 6ms/step - loss: 0.0602 - accuracy: 0.9736 - val_loss: 0.0551 - val_accuracy: 0.9780\n",
      "Epoch 46/50\n",
      "19/19 [==============================] - 0s 6ms/step - loss: 0.0584 - accuracy: 0.9753 - val_loss: 0.0430 - val_accuracy: 0.9890\n",
      "Epoch 47/50\n",
      "19/19 [==============================] - 0s 5ms/step - loss: 0.0545 - accuracy: 0.9736 - val_loss: 0.0375 - val_accuracy: 0.9890\n",
      "Epoch 48/50\n",
      "19/19 [==============================] - 0s 6ms/step - loss: 0.0593 - accuracy: 0.9786 - val_loss: 0.0464 - val_accuracy: 0.9780\n",
      "Epoch 49/50\n",
      "19/19 [==============================] - 0s 6ms/step - loss: 0.0589 - accuracy: 0.9753 - val_loss: 0.0666 - val_accuracy: 0.9670\n",
      "Epoch 50/50\n",
      "19/19 [==============================] - 0s 6ms/step - loss: 0.0575 - accuracy: 0.9786 - val_loss: 0.0883 - val_accuracy: 0.9451\n"
     ]
    },
    {
     "data": {
      "text/plain": [
       "<keras.callbacks.History at 0x153ae169dc0>"
      ]
     },
     "execution_count": 27,
     "metadata": {},
     "output_type": "execute_result"
    }
   ],
   "source": [
    "model= Sequential()\n",
    "model.add(Dense(64,input_dim=8))\n",
    "model.add(layers.Activation(activations.relu))\n",
    "model.add(Dense(64))\n",
    "model.add(layers.Activation(activations.relu))\n",
    "model.add(Dense(32))\n",
    "model.add(layers.Activation(activations.softmax))#ikili sınıflandırma olduğu için sigmoid fonk kullanmalıyız ama Softmax'İ ikili  sınıflandırmada kullanırsak sigmoidle birebir aynı olur   \n",
    "\n",
    "model.compile(optimizer = 'adam', loss = 'sparse_categorical_crossentropy',metrics=['accuracy'])\n",
    "model.fit(giris,cikis,epochs=50,batch_size=32,validation_split=0.13)"
   ]
  },
  {
   "cell_type": "code",
   "execution_count": 38,
   "id": "fad31ba1-38bd-4638-834a-b44eb00d182e",
   "metadata": {},
   "outputs": [
    {
     "name": "stdout",
     "output_type": "stream",
     "text": [
      "[[2 2 2 2 2 2 2 2]]\n"
     ]
    }
   ],
   "source": [
    "tahmin = np.array([5,5,5,8,10,8,7,3]).reshape(1,8) #sample \n",
    "print(np.where(tahmin>0,2,4))"
   ]
  },
  {
   "cell_type": "code",
   "execution_count": null,
   "id": "78f2ff0e-0f16-4a49-81a3-ccfdbc2f47d0",
   "metadata": {},
   "outputs": [],
   "source": []
  }
 ],
 "metadata": {
  "anaconda-cloud": {},
  "kernelspec": {
   "display_name": "Python 3 (ipykernel)",
   "language": "python",
   "name": "python3"
  },
  "language_info": {
   "codemirror_mode": {
    "name": "ipython",
    "version": 3
   },
   "file_extension": ".py",
   "mimetype": "text/x-python",
   "name": "python",
   "nbconvert_exporter": "python",
   "pygments_lexer": "ipython3",
   "version": "3.9.12"
  }
 },
 "nbformat": 4,
 "nbformat_minor": 5
}
